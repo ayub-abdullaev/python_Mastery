{
  "nbformat": 4,
  "nbformat_minor": 0,
  "metadata": {
    "colab": {
      "provenance": [],
      "authorship_tag": "ABX9TyN94+67ACq6WUryi529DhKy",
      "include_colab_link": true
    },
    "kernelspec": {
      "name": "python3",
      "display_name": "Python 3"
    },
    "language_info": {
      "name": "python"
    }
  },
  "cells": [
    {
      "cell_type": "markdown",
      "metadata": {
        "id": "view-in-github",
        "colab_type": "text"
      },
      "source": [
        "<a href=\"https://colab.research.google.com/github/ayub-abdullaev/python_Mastery/blob/main/week_one.ipynb\" target=\"_parent\"><img src=\"https://colab.research.google.com/assets/colab-badge.svg\" alt=\"Open In Colab\"/></a>"
      ]
    },
    {
      "cell_type": "markdown",
      "source": [
        "#Python Mastery"
      ],
      "metadata": {
        "id": "WAtoGserEsOn"
      }
    },
    {
      "cell_type": "code",
      "source": [
        "import requests\n",
        "response  = requests.get('https://uselessfacts.jsph.pl/random.json?language=en')\n",
        "\n",
        "print(response.text)"
      ],
      "metadata": {
        "colab": {
          "base_uri": "https://localhost:8080/"
        },
        "id": "vRHNw0HH3RZt",
        "outputId": "e19c69fd-e632-4c62-bd2b-45c2f7838c9b"
      },
      "execution_count": null,
      "outputs": [
        {
          "output_type": "stream",
          "name": "stdout",
          "text": [
            "{\"id\":\"d3fb5fe7fc6e7273348f5551920b3ad8\",\"text\":\"The longest word comprised of one row on the keyboard is: TYPEWRITER\",\"source\":\"djtech.net\",\"source_url\":\"http://www.djtech.net/humor/useless_facts.htm\",\"language\":\"en\",\"permalink\":\"https://uselessfacts.jsph.pl/api/v2/facts/d3fb5fe7fc6e7273348f5551920b3ad8\"}\n",
            "\n"
          ]
        }
      ]
    },
    {
      "cell_type": "code",
      "source": [
        "queri_parameters={\n",
        "    'language' : 'en'\n",
        "}\n",
        "\n",
        "response = requests.get('https://uselessfacts.jsph.pl/random.json', params=queri_parameters)\n",
        "\n",
        "print(response.json().get('text'))"
      ],
      "metadata": {
        "colab": {
          "base_uri": "https://localhost:8080/"
        },
        "id": "cBXMZpYu3qg5",
        "outputId": "12c02127-d31a-4331-9a13-81d9720f34c3"
      },
      "execution_count": null,
      "outputs": [
        {
          "output_type": "stream",
          "name": "stdout",
          "text": [
            "The longest place-name still in use is: Taumatawhakatangihangakoauauotamateaturipukakapikimaungahoronukupokaiakitnatahu, a New Zealand hill.  \n"
          ]
        }
      ]
    },
    {
      "cell_type": "markdown",
      "source": [
        "# New Section"
      ],
      "metadata": {
        "id": "gZL5S40s1X7t"
      }
    },
    {
      "cell_type": "code",
      "source": [
        "import requests\n",
        "url = 'https://api.coingecko.com/api/v3/simple/price?ids=bitcoin&vs_currencies=usd'\n",
        "rate = requests.get(url)\n",
        "print('Status:',response.status_code)\n",
        "\n",
        "if response.status_code == 200:\n",
        "  data = response.json()\n",
        "  print('Bitcoin Price (USD):', data['bitcoin']['usd'])\n",
        "else:\n",
        "    print('Erroooor')"
      ],
      "metadata": {
        "colab": {
          "base_uri": "https://localhost:8080/"
        },
        "id": "DqgrI9QZ8lOQ",
        "outputId": "5a9eda09-daf9-4736-fc86-7cc5d1e4258a"
      },
      "execution_count": null,
      "outputs": [
        {
          "output_type": "stream",
          "name": "stdout",
          "text": [
            "Status: 200\n",
            "Bitcoin Price (USD): 115062\n"
          ]
        }
      ]
    },
    {
      "cell_type": "code",
      "source": [
        "import requests\n",
        "\n",
        "url = \"https://api.coingecko.com/api/v3/simple/price?ids=bitcoin&vs_currencies=usd\"\n",
        "response = requests.get(url)\n",
        "\n",
        "if response.status_code == 200:\n",
        "    data = response.json()\n",
        "    print(\"Bitcoin Price (USD):\", data[\"bitcoin\"][\"usd\"])\n",
        "else:\n",
        "    print(\"Error:\", response.text)"
      ],
      "metadata": {
        "id": "jhjw7Td69Mvj",
        "colab": {
          "base_uri": "https://localhost:8080/"
        },
        "outputId": "b15ed6df-0c45-4800-81cf-0beb4158222b"
      },
      "execution_count": null,
      "outputs": [
        {
          "output_type": "stream",
          "name": "stdout",
          "text": [
            "Bitcoin Price (USD): 115062\n"
          ]
        }
      ]
    },
    {
      "cell_type": "code",
      "source": [
        "fruits = ['pen', 'pencil', 'book']\n",
        "print(fruits[1])"
      ],
      "metadata": {
        "colab": {
          "base_uri": "https://localhost:8080/"
        },
        "id": "S2Q6iB3v1o_D",
        "outputId": "e78a4403-36fa-4117-caa4-19842632d467"
      },
      "execution_count": null,
      "outputs": [
        {
          "output_type": "stream",
          "name": "stdout",
          "text": [
            "pencil\n"
          ]
        }
      ]
    },
    {
      "cell_type": "code",
      "source": [],
      "metadata": {
        "id": "GK51eXFK17OP"
      },
      "execution_count": null,
      "outputs": []
    },
    {
      "cell_type": "markdown",
      "source": [
        "#Data Structures\n",
        "\n",
        "The important ones are **lists** , **dictionaries**, and **sets**."
      ],
      "metadata": {
        "id": "sCyK9cQ46p-s"
      }
    },
    {
      "cell_type": "code",
      "source": [
        "data = ['Me', 'you']\n",
        "print(data[1])\n",
        "data.append('she')\n",
        "data.append('spark')\n",
        "\n",
        "print(data)"
      ],
      "metadata": {
        "colab": {
          "base_uri": "https://localhost:8080/"
        },
        "id": "BJogjUfH7He3",
        "outputId": "46fc93f6-54a7-48a4-f538-db8a79cb1852"
      },
      "execution_count": null,
      "outputs": [
        {
          "output_type": "stream",
          "name": "stdout",
          "text": [
            "you\n",
            "['Me', 'you', 'she', 'spark']\n"
          ]
        }
      ]
    },
    {
      "cell_type": "markdown",
      "source": [
        "#List Slicing\n",
        "\n",
        "first num - starting position (inclusive)./n\n",
        "second number - stopping position ( exclusive)./n\n",
        "third num - step.\n",
        "\n",
        "\n",
        "---\n",
        "\n"
      ],
      "metadata": {
        "id": "Mqx_RCMl8SJ3"
      }
    },
    {
      "cell_type": "code",
      "source": [
        "data = ['BMW', 'Merc', 'Toyota', 'Ford', 'Volkswagen']\n",
        "\n",
        "data[0:2:1]"
      ],
      "metadata": {
        "colab": {
          "base_uri": "https://localhost:8080/"
        },
        "id": "0frD9h7J8hs6",
        "outputId": "f11d256c-f626-4668-de28-4fc45b11e789"
      },
      "execution_count": null,
      "outputs": [
        {
          "output_type": "execute_result",
          "data": {
            "text/plain": [
              "['BMW', 'Merc']"
            ]
          },
          "metadata": {},
          "execution_count": 12
        }
      ]
    },
    {
      "cell_type": "markdown",
      "source": [
        "#Dictionaries and Sets"
      ],
      "metadata": {
        "id": "F2wmpZqR99aB"
      }
    },
    {
      "cell_type": "code",
      "source": [
        "data = {'BMW', 'Merc', 'Toyota', 'Ford', 'Volkswagen'}\n",
        "print (data)\n",
        "\n",
        "data_dictionary = {\n",
        "    'BMW' : 2016,\n",
        "    'Merc' : 2018,\n",
        "    'Toyota' : 2019,\n",
        "    'Ford' : 2021,\n",
        "    'Volkswagen' : 2024\n",
        "}\n",
        "\n",
        "print(data_dictionary.get('Ford'))"
      ],
      "metadata": {
        "colab": {
          "base_uri": "https://localhost:8080/"
        },
        "id": "RDNU1szH80sR",
        "outputId": "ad4f4394-3917-468e-86a8-367eebbe8257"
      },
      "execution_count": null,
      "outputs": [
        {
          "output_type": "stream",
          "name": "stdout",
          "text": [
            "{'Merc', 'Volkswagen', 'Ford', 'Toyota', 'BMW'}\n",
            "2021\n"
          ]
        }
      ]
    },
    {
      "cell_type": "markdown",
      "source": [
        "#Control FLow (Loops and Cpnditions)\n",
        "\n",
        "Iteration - ONe time through the loop\n"
      ],
      "metadata": {
        "id": "TqP6KZHFCu-7"
      }
    },
    {
      "cell_type": "code",
      "source": [
        "data = ['a', 'b', 'c', 'd', 'e', 'f']\n",
        "\n",
        "for i in range(10):\n",
        "  print (i, end = '  ')\n",
        "\n",
        "print(' ')\n",
        "for letter in data:\n",
        "  print(letter, end=' ')\n",
        "\n",
        "print(' ')\n",
        "for i, letter in enumerate(data):\n",
        "  print(i, letter)"
      ],
      "metadata": {
        "colab": {
          "base_uri": "https://localhost:8080/"
        },
        "id": "XkCLYkFwCxAg",
        "outputId": "cf6b8018-6ceb-42a0-d4b3-feb2a7925b77"
      },
      "execution_count": null,
      "outputs": [
        {
          "output_type": "stream",
          "name": "stdout",
          "text": [
            "0  1  2  3  4  5  6  7  8  9   \n",
            "a b c d e f  \n",
            "0 a\n",
            "1 b\n",
            "2 c\n",
            "3 d\n",
            "4 e\n",
            "5 f\n"
          ]
        }
      ]
    },
    {
      "cell_type": "code",
      "source": [
        "\n"
      ],
      "metadata": {
        "id": "hin-8uL_C6D_"
      },
      "execution_count": null,
      "outputs": []
    },
    {
      "cell_type": "code",
      "source": [
        "data = ['a', 'b', 'c', 'd', 'e', 'f']\n",
        "\n",
        "i = 0\n",
        "\n",
        "while i < len(data):\n",
        "  print(data[i])\n",
        "  i+=1"
      ],
      "metadata": {
        "colab": {
          "base_uri": "https://localhost:8080/"
        },
        "outputId": "7d91cb67-a24c-4154-b327-85fa921d4692",
        "id": "QMp_aw0VGgUo"
      },
      "execution_count": null,
      "outputs": [
        {
          "output_type": "stream",
          "name": "stdout",
          "text": [
            "a\n",
            "b\n",
            "c\n",
            "d\n",
            "e\n",
            "f\n"
          ]
        }
      ]
    },
    {
      "cell_type": "code",
      "source": [
        "while  True:\n",
        "  x = input()\n",
        "  if x == \"Stop\":\n",
        "    print('Nah this can not stop me, try another word buddy')\n",
        "  if x == \"Sorry\":\n",
        "    break"
      ],
      "metadata": {
        "colab": {
          "base_uri": "https://localhost:8080/"
        },
        "id": "OTjqapbEGimI",
        "outputId": "6cae333d-7f3b-448e-ff11-b0bb935cb5f0"
      },
      "execution_count": null,
      "outputs": [
        {
          "name": "stdout",
          "output_type": "stream",
          "text": [
            "hey\n",
            "lol\n",
            "stop\n",
            "Stop\n",
            "Nah this can not stop me, try another word buddy\n",
            "sorry\n",
            "Sorru\n",
            "Sorry\n"
          ]
        }
      ]
    },
    {
      "cell_type": "code",
      "source": [
        "data_dictionary = {\n",
        "    'BMW' : 2016,\n",
        "    'Merc' : 2018,\n",
        "    'Toyota' : 2019,\n",
        "    'Ford' : 2021,\n",
        "    'Volkswagen' : 2024\n",
        "}\n",
        "\n",
        "for car_brand, year in data_dictionary.items():\n",
        "  print(car_brand, year)"
      ],
      "metadata": {
        "colab": {
          "base_uri": "https://localhost:8080/"
        },
        "id": "eB-tOlb6IFXe",
        "outputId": "ebacfe31-5126-49a9-d71c-c116a6894e65"
      },
      "execution_count": 37,
      "outputs": [
        {
          "output_type": "stream",
          "name": "stdout",
          "text": [
            "BMW 2016\n",
            "Merc 2018\n",
            "Toyota 2019\n",
            "Ford 2021\n",
            "Volkswagen 2024\n"
          ]
        }
      ]
    },
    {
      "cell_type": "markdown",
      "source": [
        "#Guessing Game\n",
        "\n",
        "Generate a random number -- random module\n",
        "\n",
        "do while - Python doesn't have this built in.\n",
        "do something once -- possible repeat it.\n",
        "Ask for a number. If we get it wrong, ask again.\n",
        "\n",
        "logic for right/wrong:guessed == correct value"
      ],
      "metadata": {
        "id": "5zyZpwqNStql"
      }
    },
    {
      "cell_type": "code",
      "source": [
        "from random import randint\n",
        "\n",
        "print('Enter the lowest number')\n",
        "low = int(input())\n",
        "high = int(input('Enter the highest number:  '))\n",
        "tries = 5\n",
        "\n",
        "while high <= low:\n",
        "  print(f\"PLease enter the higher number than {low}\")\n",
        "  high = int(input('Enter the highest number:  '))\n",
        "correct = randint(low, high)\n",
        "print(f'Guess a number between {low}, {high}.')\n",
        "while tries > 0:\n",
        "  guess = int(input())\n",
        "  if guess < correct:\n",
        "    print('GUess higher!')\n",
        "    tries -= 1\n",
        "    print(f\"tries left {tries}\")\n",
        "  elif guess > correct:\n",
        "    print('Guess lower!')\n",
        "    tries -= 1\n",
        "    print(f'Tries left: {tries}')\n",
        "  else:\n",
        "    print('Yow win')\n",
        "  if tries == 0:\n",
        "    print(f'You lost! The correct number was {correct}')\n",
        "    break"
      ],
      "metadata": {
        "id": "O0-lBawZKGwl",
        "colab": {
          "base_uri": "https://localhost:8080/"
        },
        "outputId": "cbcb1bac-7fbe-4cc7-d4df-7266133bbc12"
      },
      "execution_count": null,
      "outputs": [
        {
          "output_type": "stream",
          "name": "stdout",
          "text": [
            "Enter the lowest number\n",
            "1\n",
            "Enter the highest number:  10\n",
            "Guess a number between 1, 10.\n",
            "5\n",
            "Guess lower!\n",
            "Tries left: 4\n",
            "3\n",
            "Guess lower!\n",
            "Tries left: 3\n",
            "2\n",
            "Yow win\n"
          ]
        }
      ]
    },
    {
      "cell_type": "code",
      "source": [],
      "metadata": {
        "id": "nFaJCIY5Tn6-"
      },
      "execution_count": 38,
      "outputs": []
    }
  ]
}